{
 "cells": [
  {
   "cell_type": "code",
   "execution_count": 1,
   "id": "529f2d70-6ed3-491a-992d-8cf0ab12468d",
   "metadata": {},
   "outputs": [],
   "source": [
    "import pandas as pd\n",
    "import numpy as np\n",
    "import matplotlib.pyplot as plt"
   ]
  },
  {
   "cell_type": "markdown",
   "id": "e1bfdb38-44dc-4577-a633-9ec9aa3107a6",
   "metadata": {},
   "source": [
    "### Upload Product Data From CSV"
   ]
  },
  {
   "cell_type": "code",
   "execution_count": 95,
   "id": "ca75adbd-3a7d-4e7d-a0ca-eadfebfc9859",
   "metadata": {},
   "outputs": [
    {
     "data": {
      "text/html": [
       "<div>\n",
       "<style scoped>\n",
       "    .dataframe tbody tr th:only-of-type {\n",
       "        vertical-align: middle;\n",
       "    }\n",
       "\n",
       "    .dataframe tbody tr th {\n",
       "        vertical-align: top;\n",
       "    }\n",
       "\n",
       "    .dataframe thead th {\n",
       "        text-align: right;\n",
       "    }\n",
       "</style>\n",
       "<table border=\"1\" class=\"dataframe\">\n",
       "  <thead>\n",
       "    <tr style=\"text-align: right;\">\n",
       "      <th></th>\n",
       "      <th>CATEGORY_1</th>\n",
       "      <th>CATEGORY_2</th>\n",
       "      <th>CATEGORY_3</th>\n",
       "      <th>CATEGORY_4</th>\n",
       "      <th>MANUFACTURER</th>\n",
       "      <th>BRAND</th>\n",
       "      <th>BARCODE</th>\n",
       "    </tr>\n",
       "  </thead>\n",
       "  <tbody>\n",
       "    <tr>\n",
       "      <th>0</th>\n",
       "      <td>Health &amp; Wellness</td>\n",
       "      <td>Sexual Health</td>\n",
       "      <td>Conductivity Gels &amp; Lotions</td>\n",
       "      <td>NaN</td>\n",
       "      <td>NaN</td>\n",
       "      <td>NaN</td>\n",
       "      <td>7.964944e+11</td>\n",
       "    </tr>\n",
       "    <tr>\n",
       "      <th>1</th>\n",
       "      <td>Snacks</td>\n",
       "      <td>Puffed Snacks</td>\n",
       "      <td>Cheese Curls &amp; Puffs</td>\n",
       "      <td>NaN</td>\n",
       "      <td>NaN</td>\n",
       "      <td>NaN</td>\n",
       "      <td>2.327801e+10</td>\n",
       "    </tr>\n",
       "    <tr>\n",
       "      <th>2</th>\n",
       "      <td>Health &amp; Wellness</td>\n",
       "      <td>Hair Care</td>\n",
       "      <td>Hair Care Accessories</td>\n",
       "      <td>NaN</td>\n",
       "      <td>PLACEHOLDER MANUFACTURER</td>\n",
       "      <td>ELECSOP</td>\n",
       "      <td>4.618178e+11</td>\n",
       "    </tr>\n",
       "    <tr>\n",
       "      <th>3</th>\n",
       "      <td>Health &amp; Wellness</td>\n",
       "      <td>Oral Care</td>\n",
       "      <td>Toothpaste</td>\n",
       "      <td>NaN</td>\n",
       "      <td>COLGATE-PALMOLIVE</td>\n",
       "      <td>COLGATE</td>\n",
       "      <td>3.500047e+10</td>\n",
       "    </tr>\n",
       "    <tr>\n",
       "      <th>4</th>\n",
       "      <td>Health &amp; Wellness</td>\n",
       "      <td>Medicines &amp; Treatments</td>\n",
       "      <td>Essential Oils</td>\n",
       "      <td>NaN</td>\n",
       "      <td>MAPLE HOLISTICS AND HONEYDEW PRODUCTS INTERCHA...</td>\n",
       "      <td>MAPLE HOLISTICS</td>\n",
       "      <td>8.068109e+11</td>\n",
       "    </tr>\n",
       "  </tbody>\n",
       "</table>\n",
       "</div>"
      ],
      "text/plain": [
       "          CATEGORY_1              CATEGORY_2                   CATEGORY_3  \\\n",
       "0  Health & Wellness           Sexual Health  Conductivity Gels & Lotions   \n",
       "1             Snacks           Puffed Snacks         Cheese Curls & Puffs   \n",
       "2  Health & Wellness               Hair Care        Hair Care Accessories   \n",
       "3  Health & Wellness               Oral Care                   Toothpaste   \n",
       "4  Health & Wellness  Medicines & Treatments               Essential Oils   \n",
       "\n",
       "  CATEGORY_4                                       MANUFACTURER  \\\n",
       "0        NaN                                                NaN   \n",
       "1        NaN                                                NaN   \n",
       "2        NaN                           PLACEHOLDER MANUFACTURER   \n",
       "3        NaN                                  COLGATE-PALMOLIVE   \n",
       "4        NaN  MAPLE HOLISTICS AND HONEYDEW PRODUCTS INTERCHA...   \n",
       "\n",
       "             BRAND       BARCODE  \n",
       "0              NaN  7.964944e+11  \n",
       "1              NaN  2.327801e+10  \n",
       "2          ELECSOP  4.618178e+11  \n",
       "3          COLGATE  3.500047e+10  \n",
       "4  MAPLE HOLISTICS  8.068109e+11  "
      ]
     },
     "execution_count": 95,
     "metadata": {},
     "output_type": "execute_result"
    }
   ],
   "source": [
    "#Load Productions Data \n",
    "Productions= pd.read_csv ('PRODUCTS_TAKEHOME (1).csv')\n",
    "Productions['BARCODE'] = Productions['BARCODE'].replace(['', ' '], np.nan)\n",
    "Productions.head()"
   ]
  },
  {
   "cell_type": "markdown",
   "id": "6ea95826-619a-4bc5-bec0-dc508b4bc0eb",
   "metadata": {},
   "source": [
    "### Data Exploration and Cleaning"
   ]
  },
  {
   "cell_type": "code",
   "execution_count": 124,
   "id": "8efa0a0d-4188-4166-9d63-4cbf75301e31",
   "metadata": {},
   "outputs": [
    {
     "name": "stdout",
     "output_type": "stream",
     "text": [
      "<class 'pandas.core.frame.DataFrame'>\n",
      "RangeIndex: 845552 entries, 0 to 845551\n",
      "Data columns (total 7 columns):\n",
      " #   Column        Non-Null Count   Dtype  \n",
      "---  ------        --------------   -----  \n",
      " 0   CATEGORY_1    845441 non-null  object \n",
      " 1   CATEGORY_2    844128 non-null  object \n",
      " 2   CATEGORY_3    784986 non-null  object \n",
      " 3   CATEGORY_4    67459 non-null   object \n",
      " 4   MANUFACTURER  619078 non-null  object \n",
      " 5   BRAND         619080 non-null  object \n",
      " 6   BARCODE       841527 non-null  float64\n",
      "dtypes: float64(1), object(6)\n",
      "memory usage: 45.2+ MB\n"
     ]
    }
   ],
   "source": [
    "Productions.shape\n",
    "\n",
    "# Get overview\n",
    "Productions.info()"
   ]
  },
  {
   "cell_type": "markdown",
   "id": "84f77c2c-5d86-45de-94b0-94ac0adbf66b",
   "metadata": {},
   "source": [
    "**Calculate missing value**"
   ]
  },
  {
   "cell_type": "code",
   "execution_count": 129,
   "id": "40d1fe5b-14ef-4c18-8be4-6c88d953be2c",
   "metadata": {},
   "outputs": [
    {
     "name": "stdout",
     "output_type": "stream",
     "text": [
      "CATEGORY_1         111\n",
      "CATEGORY_2        1424\n",
      "CATEGORY_3       60566\n",
      "CATEGORY_4      778093\n",
      "MANUFACTURER    226474\n",
      "BRAND           226472\n",
      "BARCODE           4025\n",
      "dtype: int64\n",
      "CATEGORY_1       0.01\n",
      "CATEGORY_2       0.17\n",
      "CATEGORY_3       7.16\n",
      "CATEGORY_4      92.02\n",
      "MANUFACTURER    26.78\n",
      "BRAND           26.78\n",
      "BARCODE          0.48\n",
      "dtype: float64%\n"
     ]
    }
   ],
   "source": [
    "# Check missing values\n",
    "print(Productions.isnull().sum())\n",
    "\n",
    "# Calculate percentage of missing values\n",
    "total_rows = len(Productions)  \n",
    "missing_count = Productions.isnull().sum() \n",
    "missing_percentage = round((missing_count / total_rows) * 100 ,2) \n",
    "\n",
    "# Output the result\n",
    "print(result)"
   ]
  },
  {
   "cell_type": "code",
   "execution_count": 106,
   "id": "13d85a9a-749f-4c65-aa07-ea71871921bb",
   "metadata": {},
   "outputs": [
    {
     "data": {
      "text/plain": [
       "CATEGORY_1          27\n",
       "CATEGORY_2         121\n",
       "CATEGORY_3         344\n",
       "CATEGORY_4         127\n",
       "MANUFACTURER      4354\n",
       "BRAND             8122\n",
       "BARCODE         841342\n",
       "dtype: int64"
      ]
     },
     "execution_count": 106,
     "metadata": {},
     "output_type": "execute_result"
    }
   ],
   "source": [
    "Productions.nunique()"
   ]
  },
  {
   "cell_type": "code",
   "execution_count": 27,
   "id": "aeb38621-ae37-4df1-9be4-fea576f33b80",
   "metadata": {},
   "outputs": [
    {
     "name": "stdout",
     "output_type": "stream",
     "text": [
      "Number of duplicate rows: 215\n",
      "               CATEGORY_1              CATEGORY_2  \\\n",
      "359328            Alcohol                    Beer   \n",
      "817261          Beverages  Carbonated Soft Drinks   \n",
      "410161  Health & Wellness  Medicines & Treatments   \n",
      "764322  Health & Wellness  Medicines & Treatments   \n",
      "443703  Health & Wellness  Medicines & Treatments   \n",
      "...                   ...                     ...   \n",
      "474902             Snacks             Snack Cakes   \n",
      "483929             Snacks             Snack Cakes   \n",
      "747596             Snacks             Snack Cakes   \n",
      "768066             Snacks             Snack Cakes   \n",
      "553091             Snacks             Snack Cakes   \n",
      "\n",
      "                                    CATEGORY_3      CATEGORY_4  \\\n",
      "359328                                   Lager  American Lager   \n",
      "817261                                    Cola    Regular Cola   \n",
      "410161  Allergy & Sinus Medicines & Treatments             NaN   \n",
      "764322  Allergy & Sinus Medicines & Treatments             NaN   \n",
      "443703           Vitamins & Herbal Supplements             NaN   \n",
      "...                                        ...             ...   \n",
      "474902                       Donut Snack Cakes             NaN   \n",
      "483929                       Donut Snack Cakes             NaN   \n",
      "747596                      Muffin Snack Cakes             NaN   \n",
      "768066                      Muffin Snack Cakes             NaN   \n",
      "553091                Pies & Tarts Snack Cakes             NaN   \n",
      "\n",
      "                 MANUFACTURER                          BRAND    BARCODE  \n",
      "359328            MOLSONCOORS                    COORS LIGHT        NaN  \n",
      "817261  THE COCA-COLA COMPANY                      COCA-COLA  4904403.0  \n",
      "410161                 HALEON                        FLONASE        NaN  \n",
      "764322                 HALEON                        FLONASE        NaN  \n",
      "443703                 HALEON                      EMERGEN-C        NaN  \n",
      "...                       ...                            ...        ...  \n",
      "474902                  BIMBO  ENTENMANN'S SWEET BAKED GOODS        NaN  \n",
      "483929                  BIMBO        BIMBO SWEET BAKED GOODS        NaN  \n",
      "747596                  BIMBO        BIMBO SWEET BAKED GOODS        NaN  \n",
      "768066                  BIMBO  ENTENMANN'S SWEET BAKED GOODS        NaN  \n",
      "553091                  BIMBO  ENTENMANN'S SWEET BAKED GOODS        NaN  \n",
      "\n",
      "[215 rows x 7 columns]\n"
     ]
    }
   ],
   "source": [
    "# Display all duplicate rows\n",
    "duplicated_rows = Productions[Productions.duplicated()].sort_values(by = ['CATEGORY_1', 'CATEGORY_2','CATEGORY_3','CATEGORY_4','BARCODE'])\n",
    "print(f\"Number of duplicate rows: {len(duplicated_rows)}\")\n",
    "print(duplicated_rows)"
   ]
  },
  {
   "cell_type": "markdown",
   "id": "ee22fc61-81e0-4ef0-8e30-c79aaf84c3d5",
   "metadata": {},
   "source": [
    "### Data Quality & Issues"
   ]
  },
  {
   "cell_type": "markdown",
   "id": "9589d7d7-272c-43ec-9b87-0754953a1a5b",
   "metadata": {},
   "source": [
    "**1. Check for Categorical Data**"
   ]
  },
  {
   "cell_type": "code",
   "execution_count": 58,
   "id": "490e099f-9546-4d9f-ae8f-f8a44e31b59c",
   "metadata": {},
   "outputs": [
    {
     "name": "stdout",
     "output_type": "stream",
     "text": [
      "['Health & Wellness' 'Snacks' 'Beverages' 'Pantry' 'Alcohol'\n",
      " 'Apparel & Accessories' 'Restaurant' 'Needs Review' 'Dairy'\n",
      " 'Home & Garden' nan 'Household Supplies' 'Meat & Seafood' 'Deli & Bakery'\n",
      " 'Sporting Goods' 'Produce' 'Office & School' 'Frozen'\n",
      " 'Arts & Entertainment' 'Animals & Pet Supplies' 'Electronics' 'Beauty'\n",
      " 'Toys & Games' 'Mature' 'Vehicles & Parts' 'Baby & Toddler'\n",
      " 'Luggage & Bags' 'Media']\n",
      "['Sexual Health' 'Puffed Snacks' 'Hair Care' 'Oral Care'\n",
      " 'Medicines & Treatments' 'Deodorant & Antiperspirant' 'Snack Bars' nan\n",
      " 'Bath & Body' 'Nuts & Seeds' 'Candy' 'Cookies' 'Variety Snack Packs'\n",
      " 'Hair Removal' 'Medical Supplies & Equipment' 'Chips' 'Snack Cakes'\n",
      " 'Skin Care' 'Dessert Toppings' 'Eye Care' 'Fruit & Vegetable Snacks'\n",
      " 'Snack Mixes' 'Crackers' 'Jerky & Dried Meat'\n",
      " 'Topical Muscle & Joint Relief Treatments' 'Foot Care' 'First Aid'\n",
      " 'Ear Care' 'Menstrual Care' 'Pretzels' 'Trail Mix' 'Dips & Salsa'\n",
      " 'Adult Incontinence' 'Water' 'Cereal, Granola, & Toaster Pastries' 'Wine'\n",
      " 'Pudding & Gelatin' 'Clothing' 'Carbonated Soft Drinks'\n",
      " 'Energy & Endurance' 'Beverages' 'Cheese' 'Kitchen & Dining'\n",
      " 'Energy Drinks' 'Packaged Vegetables' 'Household Cleaning Supplies'\n",
      " 'Business & Home Security'\n",
      " 'Hard Seltzers, Sodas, Waters, Lemonades & Teas' 'Beer' 'Fresh Seafood'\n",
      " 'Packaged Meals & Sides' 'Prepared Meals' 'Jewelry' 'Exercise & Fitness'\n",
      " 'Pasta & Noodles' 'Packaged Fruit & Applesauce' 'Fresh Fruits'\n",
      " 'Name Plates' 'Sauces & Marinades' 'Frozen Desserts' 'Spirits'\n",
      " 'Cooking & Baking' 'Athletics' 'Clothing Accessories' 'Plants'\n",
      " 'Musical Instruments' 'Cocktail Prep' 'Beverage Syrups'\n",
      " 'Frozen Pizza & Pizza Snacks' 'Nut Butters & Jam' 'Coffee'\n",
      " 'Fruit & Vegetable Juices' 'Pet Carriers, Crates & Accessories' 'Audio'\n",
      " 'Hardware' 'Fish Supplies' 'Makeup' 'Decor' 'Toys' 'À La Carte Item'\n",
      " 'Office Carts' 'Frozen Meat' 'Pet Grooming Supplies' 'Fresh Vegetables'\n",
      " 'Furniture' 'Tobacco Products' 'Soup & Broth' 'Dairy Alternatives'\n",
      " 'Vehicle Storage & Cargo' 'Packaged Seafood' 'Office & Chair Mats'\n",
      " 'Pickled Goods' 'Outdoor Recreation' 'Indoor Games' 'Arts & Crafts'\n",
      " 'Frozen Appetizers' 'Food Storage' 'Tea'\n",
      " 'Vehicle Maintenance, Care & Decor' 'Games'\n",
      " 'Arcade Equipment & Accessories' 'Baby Toys & Activity Equipment'\n",
      " 'Hard Ciders' 'Luggage Accessories' 'Lawn & Garden' 'Books' 'Condiments'\n",
      " 'Lighting' 'Ice' 'Presentation Supplies' 'Handbag, Wallet & Accessories'\n",
      " 'Emergency Preparedness' 'Music & Recordings' 'Party & Celebration'\n",
      " 'Shoes' 'Pool, Spa & Accessories' 'Baby & Toddler Feeding'\n",
      " 'Malt Beverages' 'Household Appliances' 'Shipping Supplies'\n",
      " 'Frozen Sides' 'Baby Transport']\n"
     ]
    }
   ],
   "source": [
    "# Categories\n",
    "print(Productions['CATEGORY_1'].unique())\n",
    "print(Productions['CATEGORY_2'].unique())\n",
    "#print(Productions['CATEGORY_3'].unique())\n",
    "#print(Productions['CATEGORY_4'].unique())"
   ]
  },
  {
   "cell_type": "code",
   "execution_count": 47,
   "id": "ebd003ee-12b7-46ad-b714-045d18fa2eee",
   "metadata": {},
   "outputs": [
    {
     "data": {
      "text/plain": [
       "array([nan, 'PLACEHOLDER MANUFACTURER', 'COLGATE-PALMOLIVE', ...,\n",
       "       'VIDETTE INC', 'SCRUB-IT', 'OUTDOOR PRODUCT INNOVATIONS, INC.'],\n",
       "      dtype=object)"
      ]
     },
     "execution_count": 47,
     "metadata": {},
     "output_type": "execute_result"
    }
   ],
   "source": [
    "# Manufacturer\n",
    "Productions['MANUFACTURER'].unique()\n",
    "#placeholder_manufacturer = Productions[Productions['MANUFACTURER'] == 'PLACEHOLDER MANUFACTURER']\n",
    "#print(f\"Rows with placeholder manufacturer:\\n{placeholder_manufacturer}\")"
   ]
  },
  {
   "cell_type": "markdown",
   "id": "265fea24-6d5a-4788-803d-0e851afd525f",
   "metadata": {},
   "source": [
    "It is noted that \"PLACEHOLDER MANUFACTURER\" appears to be a placeholder value.   \n",
    "Confirm that values starting with a number (e.g., \"5.11\") correspond to valid manufacturers, as \"5.11\" is associated with the brand \"5.11 TACTICAL.\""
   ]
  },
  {
   "cell_type": "markdown",
   "id": "689c88ff-cf0e-4e4a-b001-cdca4ec01cce",
   "metadata": {},
   "source": [
    "**2.Convert scientific notion to string for Barcode**"
   ]
  },
  {
   "cell_type": "code",
   "execution_count": 53,
   "id": "75987049-541a-4130-a806-f0a5b4e1c426",
   "metadata": {},
   "outputs": [
    {
     "data": {
      "text/html": [
       "<div>\n",
       "<style scoped>\n",
       "    .dataframe tbody tr th:only-of-type {\n",
       "        vertical-align: middle;\n",
       "    }\n",
       "\n",
       "    .dataframe tbody tr th {\n",
       "        vertical-align: top;\n",
       "    }\n",
       "\n",
       "    .dataframe thead th {\n",
       "        text-align: right;\n",
       "    }\n",
       "</style>\n",
       "<table border=\"1\" class=\"dataframe\">\n",
       "  <thead>\n",
       "    <tr style=\"text-align: right;\">\n",
       "      <th></th>\n",
       "      <th>CATEGORY_1</th>\n",
       "      <th>CATEGORY_2</th>\n",
       "      <th>CATEGORY_3</th>\n",
       "      <th>CATEGORY_4</th>\n",
       "      <th>MANUFACTURER</th>\n",
       "      <th>BRAND</th>\n",
       "      <th>BARCODE</th>\n",
       "    </tr>\n",
       "  </thead>\n",
       "  <tbody>\n",
       "    <tr>\n",
       "      <th>0</th>\n",
       "      <td>Health &amp; Wellness</td>\n",
       "      <td>Sexual Health</td>\n",
       "      <td>Conductivity Gels &amp; Lotions</td>\n",
       "      <td>NaN</td>\n",
       "      <td>NaN</td>\n",
       "      <td>NaN</td>\n",
       "      <td>796494407820.0</td>\n",
       "    </tr>\n",
       "    <tr>\n",
       "      <th>1</th>\n",
       "      <td>Snacks</td>\n",
       "      <td>Puffed Snacks</td>\n",
       "      <td>Cheese Curls &amp; Puffs</td>\n",
       "      <td>NaN</td>\n",
       "      <td>NaN</td>\n",
       "      <td>NaN</td>\n",
       "      <td>23278011028.0</td>\n",
       "    </tr>\n",
       "    <tr>\n",
       "      <th>2</th>\n",
       "      <td>Health &amp; Wellness</td>\n",
       "      <td>Hair Care</td>\n",
       "      <td>Hair Care Accessories</td>\n",
       "      <td>NaN</td>\n",
       "      <td>PLACEHOLDER MANUFACTURER</td>\n",
       "      <td>ELECSOP</td>\n",
       "      <td>461817824225.0</td>\n",
       "    </tr>\n",
       "    <tr>\n",
       "      <th>3</th>\n",
       "      <td>Health &amp; Wellness</td>\n",
       "      <td>Oral Care</td>\n",
       "      <td>Toothpaste</td>\n",
       "      <td>NaN</td>\n",
       "      <td>COLGATE-PALMOLIVE</td>\n",
       "      <td>COLGATE</td>\n",
       "      <td>35000466815.0</td>\n",
       "    </tr>\n",
       "    <tr>\n",
       "      <th>4</th>\n",
       "      <td>Health &amp; Wellness</td>\n",
       "      <td>Medicines &amp; Treatments</td>\n",
       "      <td>Essential Oils</td>\n",
       "      <td>NaN</td>\n",
       "      <td>MAPLE HOLISTICS AND HONEYDEW PRODUCTS INTERCHA...</td>\n",
       "      <td>MAPLE HOLISTICS</td>\n",
       "      <td>806810850459.0</td>\n",
       "    </tr>\n",
       "  </tbody>\n",
       "</table>\n",
       "</div>"
      ],
      "text/plain": [
       "          CATEGORY_1              CATEGORY_2                   CATEGORY_3  \\\n",
       "0  Health & Wellness           Sexual Health  Conductivity Gels & Lotions   \n",
       "1             Snacks           Puffed Snacks         Cheese Curls & Puffs   \n",
       "2  Health & Wellness               Hair Care        Hair Care Accessories   \n",
       "3  Health & Wellness               Oral Care                   Toothpaste   \n",
       "4  Health & Wellness  Medicines & Treatments               Essential Oils   \n",
       "\n",
       "  CATEGORY_4                                       MANUFACTURER  \\\n",
       "0        NaN                                                NaN   \n",
       "1        NaN                                                NaN   \n",
       "2        NaN                           PLACEHOLDER MANUFACTURER   \n",
       "3        NaN                                  COLGATE-PALMOLIVE   \n",
       "4        NaN  MAPLE HOLISTICS AND HONEYDEW PRODUCTS INTERCHA...   \n",
       "\n",
       "             BRAND         BARCODE  \n",
       "0              NaN  796494407820.0  \n",
       "1              NaN   23278011028.0  \n",
       "2          ELECSOP  461817824225.0  \n",
       "3          COLGATE   35000466815.0  \n",
       "4  MAPLE HOLISTICS  806810850459.0  "
      ]
     },
     "execution_count": 53,
     "metadata": {},
     "output_type": "execute_result"
    }
   ],
   "source": [
    "Productions['BARCODE'] = Productions['BARCODE'].astype(str)\n",
    "Productions.head()"
   ]
  },
  {
   "cell_type": "code",
   "execution_count": null,
   "id": "7337374e-7e98-4d1b-a160-7819c660f966",
   "metadata": {},
   "outputs": [],
   "source": []
  }
 ],
 "metadata": {
  "kernelspec": {
   "display_name": "Python 3 (ipykernel)",
   "language": "python",
   "name": "python3"
  },
  "language_info": {
   "codemirror_mode": {
    "name": "ipython",
    "version": 3
   },
   "file_extension": ".py",
   "mimetype": "text/x-python",
   "name": "python",
   "nbconvert_exporter": "python",
   "pygments_lexer": "ipython3",
   "version": "3.12.4"
  }
 },
 "nbformat": 4,
 "nbformat_minor": 5
}
